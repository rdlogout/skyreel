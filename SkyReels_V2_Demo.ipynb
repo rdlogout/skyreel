{
  "cells": [
    {
      "cell_type": "code",
      "execution_count": null,
      "metadata": {
        "vscode": {
          "languageId": "plaintext"
        }
      },
      "outputs": [],
      "source": [
        "# 🎬 SkyReels V2 Demo - Blackwell GPU Optimized\n",
        "\n",
        "This notebook demonstrates all features of SkyReels V2 with optimizations for Blackwell GPUs (RTX 6000 Pro, etc.)\n",
        "\n",
        "## Features:\n",
        "- 📝 Text-to-Video Generation  \n",
        "- 🖼️ Image-to-Video Generation\n",
        "- 🔄 Diffusion Forcing (Long Videos)\n",
        "- 🌐 Gradio Web Interface\n",
        "- 🔧 GPU Monitoring\n"
      ]
    },
    {
      "cell_type": "code",
      "execution_count": null,
      "metadata": {},
      "outputs": [],
      "source": [
        "# Setup and imports\n",
        "import os\n",
        "import torch\n",
        "import sys\n",
        "\n",
        "# Set environment variables for Blackwell GPU optimization\n",
        "os.environ['PYTORCH_CUDA_ALLOC_CONF'] = 'max_split_size_mb:512'\n",
        "os.environ['TORCH_USE_CUDA_DSA'] = '1'\n",
        "os.environ['CUDA_LAUNCH_BLOCKING'] = '0'\n",
        "\n",
        "print(f\"PyTorch version: {torch.__version__}\")\n",
        "print(f\"CUDA available: {torch.cuda.is_available()}\")\n",
        "if torch.cuda.is_available():\n",
        "    print(f\"GPU: {torch.cuda.get_device_name()}\")\n",
        "    print(f\"Compute capability: {torch.cuda.get_device_capability()}\")\n"
      ]
    },
    {
      "cell_type": "code",
      "execution_count": null,
      "metadata": {},
      "outputs": [],
      "source": [
        "# Launch Gradio interface directly\n",
        "import subprocess\n",
        "import threading\n",
        "import time\n",
        "\n",
        "def launch_gradio():\n",
        "    \"\"\"Launch Gradio in a separate process\"\"\"\n",
        "    result = subprocess.run([\"python\", \"app.py\"], cwd=\".\", capture_output=True, text=True)\n",
        "    print(\"Gradio output:\", result.stdout)\n",
        "    if result.stderr:\n",
        "        print(\"Gradio errors:\", result.stderr)\n",
        "\n",
        "# Start Gradio in background\n",
        "print(\"🚀 Starting Gradio interface...\")\n",
        "gradio_thread = threading.Thread(target=launch_gradio, daemon=True)\n",
        "gradio_thread.start()\n",
        "\n",
        "# Give it time to start\n",
        "time.sleep(3)\n",
        "print(\"📱 Gradio should be available at: http://localhost:7860\")\n",
        "print(\"🌐 Check the output above for the public sharing link\")\n"
      ]
    }
  ],
  "metadata": {
    "language_info": {
      "name": "python"
    }
  },
  "nbformat": 4,
  "nbformat_minor": 2
}
