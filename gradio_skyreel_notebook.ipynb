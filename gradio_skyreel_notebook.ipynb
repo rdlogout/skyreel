{
 "cells": [
  {
   "cell_type": "markdown",
   "metadata": {},
   "source": [
    "# 🎬 SkyReels V2 Gradio Interface - Jupyter Notebook\n",
    "\n",
    "This notebook provides an interactive way to run the SkyReels V2 Gradio interface in Jupyter environments.\n",
    "\n",
    "## 🚀 Quick Start\n",
    "\n",
    "1. **Setup**: Run the setup cell to install dependencies\n",
    "2. **Launch**: Run the launch cell to start the Gradio interface\n",
    "3. **Access**: Use the provided URL to access the web interface\n",
    "\n",
    "## 📋 Requirements\n",
    "\n",
    "- NVIDIA GPU with 8GB+ VRAM\n",
    "- Python 3.8+\n",
    "- Stable internet connection for model downloads"
   ]
  },
  {
   "cell_type": "markdown",
   "metadata": {},
   "source": [
    "## 📦 Setup and Installation"
   ]
  },
  {
   "cell_type": "code",
   "execution_count": null,
   "metadata": {},
   "outputs": [],
   "source": [
    "# Run the Jupyter-friendly setup\n",
    "!python setup_jupyter.py"
   ]
  },
  {
   "cell_type": "markdown",
   "metadata": {},
   "source": [
    "## 🧪 Test Installation"
   ]
  },
  {
   "cell_type": "code",
   "execution_count": null,
   "metadata": {},
   "outputs": [],
   "source": [
    "# Test if everything is working\n",
    "!python test_gradio.py"
   ]
  },
  {
   "cell_type": "markdown",
   "metadata": {},
   "source": [
    "## 🎬 Launch Gradio Interface\n",
    "\n",
    "### Option 1: Launch with Public Sharing (Recommended for Jupyter)"
   ]
  },
  {
   "cell_type": "code",
   "execution_count": null,
   "metadata": {},
   "outputs": [],
   "source": [
    "# Launch Gradio interface with sharing enabled\n",
    "# This will create a public URL you can access from anywhere\n",
    "!python gradio_skyreel.py --share --server_port 7860"
   ]
  },
  {
   "cell_type": "markdown",
   "metadata": {},
   "source": [
    "### Option 2: Launch Locally (if you have port forwarding set up)"
   ]
  },
  {
   "cell_type": "code",
   "execution_count": null,
   "metadata": {},
   "outputs": [],
   "source": [
    "# Launch locally - you'll need to set up port forwarding to access this\n",
    "# !python gradio_skyreel.py --server_port 7860"
   ]
  },
  {
   "cell_type": "markdown",
   "metadata": {},
   "source": [
    "### Option 3: Programmatic Usage\n",
    "\n",
    "You can also use the functions directly in Jupyter:"
   ]
  },
  {
   "cell_type": "code",
   "execution_count": null,
   "metadata": {},
   "outputs": [],
   "source": [
    "# Import the functions for direct usage\n",
    "import sys\n",
    "import os\n",
    "\n",
    "# Add current directory to path\n",
    "sys.path.append(os.getcwd())\n",
    "\n",
    "from gradio_skyreel import (\n",
    "    generate_text_to_video,\n",
    "    generate_image_to_video,\n",
    "    generate_diffusion_forcing_video,\n",
    "    MODEL_CONFIGS\n",
    ")\n",
    "\n",
    "print(\"✅ SkyReels functions imported successfully!\")\n",
    "print(\"\\n📋 Available Models:\")\n",
    "for model_type, models in MODEL_CONFIGS.items():\n",
    "    print(f\"\\n{model_type}:\")\n",
    "    for model_id in models.keys():\n",
    "        print(f\"  • {model_id}\")"
   ]
  },
  {
   "cell_type": "markdown",
   "metadata": {},
   "source": [
    "### Example: Text-to-Video Generation"
   ]
  },
  {
   "cell_type": "code",
   "execution_count": null,
   "metadata": {},
   "outputs": [],
   "source": [
    "# Example: Generate a video from text\n",
    "# WARNING: This will download models and use GPU - make sure you have enough resources\n",
    "\n",
    "prompt = \"A majestic eagle soaring through mountain peaks at golden hour\"\n",
    "model_id = \"Skywork/SkyReels-V2-T2V-14B-540P\"\n",
    "\n",
    "print(f\"🎬 Generating video with prompt: {prompt}\")\n",
    "print(f\"📱 Model: {model_id}\")\n",
    "print(\"⏳ This may take several minutes...\")\n",
    "\n",
    "# Uncomment the following lines to run the generation\n",
    "# video_path, info = generate_text_to_video(\n",
    "#     prompt=prompt,\n",
    "#     model_id=model_id,\n",
    "#     num_frames=97,\n",
    "#     fps=24,\n",
    "#     guidance_scale=6.0,\n",
    "#     shift=8.0,\n",
    "#     inference_steps=30,\n",
    "#     seed=42,\n",
    "#     use_prompt_enhancer=True,\n",
    "#     offload=True\n",
    "# )\n",
    "\n",
    "# if video_path:\n",
    "#     print(f\"✅ Video generated: {video_path}\")\n",
    "#     print(f\"📊 Info: {info}\")\n",
    "# else:\n",
    "#     print(f\"❌ Generation failed: {info}\")\n",
    "\n",
    "print(\"💡 Uncomment the code above to run video generation\")"
   ]
  },
  {
   "cell_type": "markdown",
   "metadata": {},
   "source": [
    "## 🔧 Utility Functions"
   ]
  },
  {
   "cell_type": "code",
   "execution_count": null,
   "metadata": {},
   "outputs": [],
   "source": [
    "# Check GPU status\n",
    "import torch\n",
    "\n",
    "print(\"🖥️ GPU Status:\")\n",
    "print(f\"CUDA available: {torch.cuda.is_available()}\")\n",
    "if torch.cuda.is_available():\n",
    "    print(f\"GPU count: {torch.cuda.device_count()}\")\n",
    "    for i in range(torch.cuda.device_count()):\n",
    "        print(f\"GPU {i}: {torch.cuda.get_device_name(i)}\")\n",
    "        print(f\"  Memory: {torch.cuda.get_device_properties(i).total_memory / 1024**3:.1f} GB\")\n",
    "else:\n",
    "    print(\"No CUDA GPUs available\")"
   ]
  },
  {
   "cell_type": "code",
   "execution_count": null,
   "metadata": {},
   "outputs": [],
   "source": [
    "# Check available disk space\n",
    "import shutil\n",
    "\n",
    "total, used, free = shutil.disk_usage(\".\")\n",
    "print(\"💾 Disk Space:\")\n",
    "print(f\"Total: {total // (2**30)} GB\")\n",
    "print(f\"Used: {used // (2**30)} GB\")\n",
    "print(f\"Free: {free // (2**30)} GB\")\n",
    "\n",
    "if free < 50 * (2**30):  # Less than 50GB\n",
    "    print(\"⚠️ Warning: Low disk space. Models require significant storage.\")\n",
    "else:\n",
    "    print(\"✅ Sufficient disk space available\")"
   ]
  },
  {
   "cell_type": "markdown",
   "metadata": {},
   "source": [
    "## 📚 Documentation and Help\n",
    "\n",
    "### 🎯 Model Types\n",
    "\n",
    "- **T2V (Text-to-Video)**: Generate videos from text descriptions\n",
    "- **I2V (Image-to-Video)**: Animate images with text prompts\n",
    "- **DF (Diffusion Forcing)**: Advanced control with long videos and extensions\n",
    "\n",
    "### 💡 Tips\n",
    "\n",
    "1. **Start Small**: Begin with shorter videos (97 frames) to test\n",
    "2. **Use CPU Offload**: Enable if you have limited GPU memory\n",
    "3. **Monitor Resources**: Keep an eye on GPU memory usage\n",
    "4. **Be Patient**: Model downloads and generation take time\n",
    "\n",
    "### 🚨 Troubleshooting\n",
    "\n",
    "- **Out of Memory**: Enable CPU offload, reduce frames, or use smaller models\n",
    "- **Slow Generation**: Ensure CUDA is working, check GPU utilization\n",
    "- **Import Errors**: Run the test script to diagnose issues\n",
    "\n",
    "### 📖 Full Documentation\n",
    "\n",
    "See `GRADIO_README.md` for complete documentation and examples."
   ]
  },
  {
   "cell_type": "code",
   "execution_count": null,
   "metadata": {},
   "outputs": [],
   "source": [
    "# Display the README content\n",
    "with open('GRADIO_README.md', 'r') as f:\n",
    "    readme_content = f.read()\n",
    "    \n",
    "from IPython.display import Markdown\n",
    "Markdown(readme_content)"
   ]
  }
 ],
 "metadata": {
  "kernelspec": {
   "display_name": "Python 3",
   "language": "python",
   "name": "python3"
  },
  "language_info": {
   "codemirror_mode": {
    "name": "ipython",
    "version": 3
   },
   "file_extension": ".py",
   "mimetype": "text/x-python",
   "name": "python",
   "nbconvert_exporter": "python",
   "pygments_lexer": "ipython3",
   "version": "3.10.12"
  }
 },
 "nbformat": 4,
 "nbformat_minor": 4
}
